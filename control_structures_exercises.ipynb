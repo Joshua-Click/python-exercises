{
 "cells": [
  {
   "cell_type": "code",
   "execution_count": null,
   "metadata": {},
   "outputs": [],
   "source": []
  },
  {
   "cell_type": "markdown",
   "metadata": {},
   "source": [
    "# 1. Conditional Basics"
   ]
  },
  {
   "cell_type": "markdown",
   "metadata": {},
   "source": [
    "a. Prompt the user for a day of the week, print out whether the day is Monday or not"
   ]
  },
  {
   "cell_type": "code",
   "execution_count": 4,
   "metadata": {},
   "outputs": [
    {
     "name": "stdout",
     "output_type": "stream",
     "text": [
      "Today is not Monday\n"
     ]
    }
   ],
   "source": [
    "\n",
    "day_of_the_week = ['saturday', 'sunday', 'monday', ' tuesday', 'wednesday', 'thursday', ' friday']\n",
    "today = input('What is today?')\n",
    "\n",
    "\n",
    "if today == 'monday':\n",
    "    print('Today is Monday!')\n",
    "else: print('Today is not Monday')\n",
    "\n"
   ]
  },
  {
   "cell_type": "markdown",
   "metadata": {},
   "source": [
    "b. Prompt the user for a day of the week, print out whether the day is a weekday or a weekend"
   ]
  },
  {
   "cell_type": "code",
   "execution_count": 14,
   "metadata": {},
   "outputs": [
    {
     "name": "stdout",
     "output_type": "stream",
     "text": [
      "Thats not a day\n"
     ]
    }
   ],
   "source": [
    "day_of_week = ['monday', ' tuesday', 'wednesday', 'thursday', ' friday']\n",
    "day_of_weekend = ['saturday', 'sunday']\n",
    "\n",
    "what_day_is_it = input('What day is it?')\n",
    "\n",
    "if what_day_is_it in day_of_week:\n",
    "    print(\"Yo its a weekday\")\n",
    "elif what_day_is_it in day_of_weekend:\n",
    "    print(\"Party on my dude\")\n",
    "else:\n",
    "    print(\"Thats not a day\")"
   ]
  },
  {
   "cell_type": "markdown",
   "metadata": {},
   "source": [
    " c. Calculate a weekly paycheck, accounting for overtime pay. Create variables and make up values for:\n",
    "\n",
    "            -The number of hours worked in one week\n",
    "            -The hourly rate\n",
    "    \n",
    "        For calculating pay:\n",
    "    \n",
    "            -For working 40 hours or less, each hour is paid at the hourly rate\n",
    "            -For working more than 40 hours\n",
    "                -the first 40 hours are paid at the hourly rate\n",
    "                -each hour after 40 is paid at time and a half (hourly rate * 1.5)"
   ]
  },
  {
   "cell_type": "code",
   "execution_count": 17,
   "metadata": {},
   "outputs": [
    {
     "name": "stdout",
     "output_type": "stream",
     "text": [
      "2593.8\n"
     ]
    }
   ],
   "source": [
    "hours_worked = int(input('How many hours did you work this week?'))\n",
    "hourly_rate = 43.23\n",
    "\n",
    "std_week_pay = hours_worked * hourly_rate\n",
    "ot_pay = std_week_pay + ((hours_worked - 40) * 1.5 * hourly_rate)\n",
    "\n",
    "if hours_worked <= 40:\n",
    "    print(std_week_pay)\n",
    "elif hours_worked > 40:\n",
    "    print(ot_pay)\n",
    "else:\n",
    "    print('get a job')\n",
    "\n",
    "    "
   ]
  },
  {
   "cell_type": "markdown",
   "metadata": {},
   "source": [
    "# 2. Loop Basics\n",
    "\n",
    "    a. While\n",
    "\n",
    "        i. Create an integer variable i with a value of 5. Create a while loop that runs so long as i is less than or equal to 15. Each loop iteration, output the current value of i, then increment i by one.\n",
    "\n",
    "    Your output should look like this:\n",
    "        5\n",
    "        6\n",
    "        7\n",
    "        8\n",
    "        9\n",
    "        10\n",
    "        11\n",
    "        12\n",
    "        13\n",
    "        14\n",
    "        15\n"
   ]
  },
  {
   "cell_type": "code",
   "execution_count": 28,
   "metadata": {},
   "outputs": [
    {
     "name": "stdout",
     "output_type": "stream",
     "text": [
      "5\n",
      "6\n",
      "7\n",
      "8\n",
      "9\n",
      "10\n",
      "11\n",
      "12\n",
      "13\n",
      "14\n",
      "15\n"
     ]
    }
   ],
   "source": [
    "i = 5\n",
    "\n",
    "while (i <= 15):\n",
    "    print(i)\n",
    "    i += 1"
   ]
  },
  {
   "cell_type": "code",
   "execution_count": null,
   "metadata": {},
   "outputs": [],
   "source": []
  },
  {
   "cell_type": "markdown",
   "metadata": {},
   "source": [
    "        i. Create a while loop that will count by 2's starting with 0 and ending at 100. Follow each number with a new line.\n",
    "        \n",
    "        ii. Create a while loop that starts at 2, and displays the number squared on each line while the number is less than 1,000,000. Output should  equal:\n",
    "            2\n",
    "            4\n",
    "            16\n",
    "            256\n",
    "            65536\n"
   ]
  },
  {
   "cell_type": "code",
   "execution_count": 30,
   "metadata": {},
   "outputs": [
    {
     "name": "stdout",
     "output_type": "stream",
     "text": [
      "2\n",
      "4\n",
      "6\n",
      "8\n",
      "10\n",
      "12\n",
      "14\n",
      "16\n",
      "18\n",
      "20\n",
      "22\n",
      "24\n",
      "26\n",
      "28\n",
      "30\n",
      "32\n",
      "34\n",
      "36\n",
      "38\n",
      "40\n",
      "42\n",
      "44\n",
      "46\n",
      "48\n",
      "50\n",
      "52\n",
      "54\n",
      "56\n",
      "58\n",
      "60\n",
      "62\n",
      "64\n",
      "66\n",
      "68\n",
      "70\n",
      "72\n",
      "74\n",
      "76\n",
      "78\n",
      "80\n",
      "82\n",
      "84\n",
      "86\n",
      "88\n",
      "90\n",
      "92\n",
      "94\n",
      "96\n",
      "98\n",
      "100\n"
     ]
    }
   ],
   "source": [
    "n = 2\n",
    "\n",
    "while n <= 100:\n",
    "    print(n)\n",
    "    n += 2"
   ]
  },
  {
   "cell_type": "markdown",
   "metadata": {},
   "source": [
    "ii. Create a while loop that starts at 2, and displays the number squared on each line while the number is less than 1,000,000. Output should  equal:\n",
    "   <pre>    2\n",
    "            4\n",
    "            16\n",
    "            256\n",
    "            65536 </pre>\n"
   ]
  },
  {
   "cell_type": "code",
   "execution_count": 38,
   "metadata": {},
   "outputs": [
    {
     "name": "stdout",
     "output_type": "stream",
     "text": [
      "2\n",
      "4\n",
      "16\n",
      "256\n",
      "65536\n"
     ]
    }
   ],
   "source": [
    "two = 2\n",
    "\n",
    "while two <= 1000000:\n",
    "    print(two)\n",
    "    two = two ** 2"
   ]
  },
  {
   "cell_type": "markdown",
   "metadata": {},
   "source": [
    "                iii. Write a while loop that uses print to create the output shown below.\n",
    "                \n",
    "                100\n",
    "                95\n",
    "                90\n",
    "                85\n",
    "                80\n",
    "                75\n",
    "                70\n",
    "                65\n",
    "                60\n",
    "                55\n",
    "                50\n",
    "                45\n",
    "                40\n",
    "                35\n",
    "                30\n",
    "                25\n",
    "                20\n",
    "                15\n",
    "                10\n",
    "                5\n",
    "\n",
    "\n"
   ]
  },
  {
   "cell_type": "code",
   "execution_count": 39,
   "metadata": {},
   "outputs": [
    {
     "name": "stdout",
     "output_type": "stream",
     "text": [
      "100\n",
      "95\n",
      "90\n",
      "85\n",
      "80\n",
      "75\n",
      "70\n",
      "65\n",
      "60\n",
      "55\n",
      "50\n",
      "45\n",
      "40\n",
      "35\n",
      "30\n",
      "25\n",
      "20\n",
      "15\n",
      "10\n",
      "5\n"
     ]
    }
   ],
   "source": [
    "hundo = 100\n",
    "\n",
    "while hundo > 0:\n",
    "    print(hundo)\n",
    "    hundo = hundo - 5"
   ]
  },
  {
   "cell_type": "markdown",
   "metadata": {},
   "source": [
    "b. For Loops\n",
    "\n",
    "        i.Write some code using a for loop that prompts the user for a number, then shows a multiplication table up through 10 for that number.\n",
    "    For example, if the user enters 7, your program should output:\n",
    " <pre>   \n",
    "7 x 1 = 7\n",
    "7 x 2 = 14\n",
    "7 x 3 = 21\n",
    "7 x 4 = 28\n",
    "7 x 5 = 35\n",
    "7 x 6 = 42\n",
    "7 x 7 = 49\n",
    "7 x 8 = 56\n",
    "7 x 9 = 63\n",
    "7 x 10 = 70</pre>\n"
   ]
  },
  {
   "cell_type": "markdown",
   "metadata": {},
   "source": [
    "        ii. Create a for loop that uses print to create the output shown below.\n",
    "        \n",
    "            1\n",
    "            22\n",
    "            333\n",
    "            4444\n",
    "            55555\n",
    "            666666\n",
    "            7777777\n",
    "            88888888\n",
    "            999999999\n",
    "\n"
   ]
  },
  {
   "cell_type": "markdown",
   "metadata": {},
   "source": [
    "c. break and continue\n",
    "\n",
    "        i. Write a program that prompts the user for a positive integer. Next write a loop that prints out the numbers from the number the user entered down to 1."
   ]
  },
  {
   "cell_type": "markdown",
   "metadata": {},
   "source": [
    "        ii.The input function can be used to prompt for input and use that input in your python code. Prompt the user to enter a positive number and write a loop that counts from 0 to that number. (Hints: note that the input function returns a string, so you'll need to convert this to a numeric type.)"
   ]
  },
  {
   "cell_type": "markdown",
   "metadata": {},
   "source": [
    "        iii. Prompt the user for an odd number between 1 and 50. Use a loop and a break statement to continue prompting the user if they enter invalid input. (Hint: use the isdigit method on strings to determine this). Use a loop and the continue statement to output all the odd numbers between 1 and 50, except for the number the user entered.\n",
    " <pre>       \n",
    "Your output should look like this:\n",
    "Number to skip is: 27\n",
    "\n",
    "Here is an odd number: 1\n",
    "Here is an odd number: 3\n",
    "Here is an odd number: 5\n",
    "Here is an odd number: 7\n",
    "Here is an odd number: 9\n",
    "Here is an odd number: 11\n",
    "Here is an odd number: 13\n",
    "Here is an odd number: 15\n",
    "Here is an odd number: 17\n",
    "Here is an odd number: 19\n",
    "Here is an odd number: 21\n",
    "Here is an odd number: 23\n",
    "Here is an odd number: 25\n",
    "Yikes! Skipping number: 27\n",
    "Here is an odd number: 29\n",
    "Here is an odd number: 31\n",
    "Here is an odd number: 33\n",
    "Here is an odd number: 35\n",
    "Here is an odd number: 37\n",
    "Here is an odd number: 39\n",
    "Here is an odd number: 41\n",
    "Here is an odd number: 43\n",
    "Here is an odd number: 45\n",
    "Here is an odd number: 47\n",
    "Here is an odd number: 49</pre>\n"
   ]
  },
  {
   "cell_type": "markdown",
   "metadata": {},
   "source": [
    "3. Fizzbuzz\n",
    "\n",
    "    One of the most common interview questions for entry-level programmers is the FizzBuzz test. Developed by Imran Ghory, the test is designed to test basic looping and conditional logic skills.\n",
    "\n",
    "        Write a program that prints the numbers from 1 to 100.\n",
    "\n",
    "        For multiples of three print \"Fizz\" instead of the number\n",
    "\n",
    "        For the multiples of five print \"Buzz\".\n",
    "        \n",
    "        For numbers which are multiples of both three and five print \"FizzBuzz\".\n"
   ]
  },
  {
   "cell_type": "markdown",
   "metadata": {},
   "source": [
    "4. Display a table of powers.\n",
    "    Prompt the user to enter an integer\n",
    "    Display a table of squares and cubes from 1 to the value entered\n",
    "    Ask if the user wants to continue\n",
    "    Assume that the user will enter valid data\n",
    "    Only continue if the user agrees to\n",
    "Example Output\n",
    "What number would you like to go up to? 5\n",
    "<pre>\n",
    "Here is your table!\n",
    "\n",
    "number | squared | cubed\n",
    "------ | ------- | -----\n",
    "1      | 1       | 1\n",
    "2      | 4       | 8\n",
    "3      | 9       | 27\n",
    "4      | 16      | 64\n",
    "5      | 25      | 125</pre>\n"
   ]
  },
  {
   "cell_type": "markdown",
   "metadata": {},
   "source": [
    "5. Convert given number grades into letter grades.\n",
    "\n",
    "                -Prompt the user for a numerical grade from 0 to 100\n",
    "                \n",
    "                -Display the corresponding letter grade\n",
    "                \n",
    "                -Prompt the user to continue\n",
    "                \n",
    "                -Assume that the user will enter valid integers for the grades\n",
    "                \n",
    "                -The application should only continue if the user agrees to\n",
    "                \n",
    "                      Grade Ranges:\n",
    "                    A : 100 - 88\n",
    "                    B : 87 - 80\n",
    "                    C : 79 - 67\n",
    "                    D : 66 - 60\n",
    "                    F : 59 - 0"
   ]
  },
  {
   "cell_type": "markdown",
   "metadata": {},
   "source": [
    "6. Create a list of dictionaries where each dictionary represents a book that you have read. Each dictionary in the list should have the keys title, author, and genre. Loop through the list and print out information about each book.\n",
    "\n",
    "        a. Prompt the user to enter a genre, then loop through your books list and print out the titles of all the books in that genre."
   ]
  },
  {
   "cell_type": "markdown",
   "metadata": {},
   "source": []
  },
  {
   "cell_type": "markdown",
   "metadata": {},
   "source": []
  }
 ],
 "metadata": {
  "kernelspec": {
   "display_name": "Python 3",
   "language": "python",
   "name": "python3"
  },
  "language_info": {
   "codemirror_mode": {
    "name": "ipython",
    "version": 3
   },
   "file_extension": ".py",
   "mimetype": "text/x-python",
   "name": "python",
   "nbconvert_exporter": "python",
   "pygments_lexer": "ipython3",
   "version": "3.9.6"
  },
  "orig_nbformat": 4
 },
 "nbformat": 4,
 "nbformat_minor": 2
}
