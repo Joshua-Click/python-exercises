{
 "cells": [
  {
   "cell_type": "markdown",
   "id": "b858ba79",
   "metadata": {},
   "source": [
    "#Identify the data type of the following values:  "
   ]
  },
  {
   "cell_type": "markdown",
   "id": "5a8944bd",
   "metadata": {},
   "source": []
  },
  {
   "cell_type": "code",
   "execution_count": 1,
   "id": "0657338a",
   "metadata": {},
   "outputs": [
    {
     "data": {
      "text/plain": [
       "float"
      ]
     },
     "execution_count": 1,
     "metadata": {},
     "output_type": "execute_result"
    }
   ],
   "source": [
    "type(99.9)"
   ]
  },
  {
   "cell_type": "code",
   "execution_count": 2,
   "id": "71ee8c0d",
   "metadata": {},
   "outputs": [
    {
     "data": {
      "text/plain": [
       "str"
      ]
     },
     "execution_count": 2,
     "metadata": {},
     "output_type": "execute_result"
    }
   ],
   "source": [
    "type(\"False\")"
   ]
  },
  {
   "cell_type": "code",
   "execution_count": 3,
   "id": "41d88736",
   "metadata": {},
   "outputs": [
    {
     "data": {
      "text/plain": [
       "bool"
      ]
     },
     "execution_count": 3,
     "metadata": {},
     "output_type": "execute_result"
    }
   ],
   "source": [
    "type(False)"
   ]
  },
  {
   "cell_type": "code",
   "execution_count": 4,
   "id": "18902848",
   "metadata": {},
   "outputs": [
    {
     "data": {
      "text/plain": [
       "str"
      ]
     },
     "execution_count": 4,
     "metadata": {},
     "output_type": "execute_result"
    }
   ],
   "source": [
    "type('0')"
   ]
  },
  {
   "cell_type": "code",
   "execution_count": 5,
   "id": "0a009581",
   "metadata": {},
   "outputs": [
    {
     "data": {
      "text/plain": [
       "int"
      ]
     },
     "execution_count": 5,
     "metadata": {},
     "output_type": "execute_result"
    }
   ],
   "source": [
    "type(0)"
   ]
  },
  {
   "cell_type": "code",
   "execution_count": 7,
   "id": "38e92606",
   "metadata": {},
   "outputs": [
    {
     "data": {
      "text/plain": [
       "bool"
      ]
     },
     "execution_count": 7,
     "metadata": {},
     "output_type": "execute_result"
    }
   ],
   "source": [
    "type(True)"
   ]
  },
  {
   "cell_type": "code",
   "execution_count": 10,
   "id": "2fa74ac7",
   "metadata": {},
   "outputs": [
    {
     "data": {
      "text/plain": [
       "str"
      ]
     },
     "execution_count": 10,
     "metadata": {},
     "output_type": "execute_result"
    }
   ],
   "source": [
    "type('True')"
   ]
  },
  {
   "cell_type": "code",
   "execution_count": 11,
   "id": "361a98ee",
   "metadata": {},
   "outputs": [
    {
     "data": {
      "text/plain": [
       "list"
      ]
     },
     "execution_count": 11,
     "metadata": {},
     "output_type": "execute_result"
    }
   ],
   "source": [
    "type([{\n",
    "    \n",
    "}])"
   ]
  },
  {
   "cell_type": "code",
   "execution_count": 12,
   "id": "4487c366",
   "metadata": {},
   "outputs": [
    {
     "data": {
      "text/plain": [
       "dict"
      ]
     },
     "execution_count": 12,
     "metadata": {},
     "output_type": "execute_result"
    }
   ],
   "source": [
    "type({'a': []})"
   ]
  },
  {
   "cell_type": "markdown",
   "id": "15012a97",
   "metadata": {},
   "source": [
    "#What data type would best represent the following?\n",
    "    A term or phrase typed into a search box\n",
    "        string\n",
    "    Whether or not a user is logged in\n",
    "        bool\n",
    "    A discount amount to apply to a user's shopping cart\n",
    "        int or float\n",
    "    Whether or not a coupon code is valid\n",
    "        bool\n",
    "    An email address typed into a registration form\n",
    "        str\n",
    "    The price of a product\n",
    "        int or float\n",
    "    The email addresses collected from a registration form\n",
    "        list or dict\n",
    "    Information about applicants to Codeup's data science program\n",
    "        dict"
   ]
  },
  {
   "cell_type": "markdown",
   "id": "81413c62",
   "metadata": {},
   "source": [
    "# 3. For each of the following code blocks:\n",
    "    Read the expression and predict the evaluated results\n",
    "    Execute the expression in a Python REPL"
   ]
  },
  {
   "cell_type": "code",
   "execution_count": 13,
   "id": "47ec4787",
   "metadata": {},
   "outputs": [
    {
     "ename": "TypeError",
     "evalue": "can only concatenate str (not \"int\") to str",
     "output_type": "error",
     "traceback": [
      "\u001b[0;31m---------------------------------------------------------------------------\u001b[0m",
      "\u001b[0;31mTypeError\u001b[0m                                 Traceback (most recent call last)",
      "Cell \u001b[0;32mIn[13], line 2\u001b[0m\n\u001b[1;32m      1\u001b[0m \u001b[39m# '1' + 2  --- error\u001b[39;00m\n\u001b[0;32m----> 2\u001b[0m \u001b[39m'\u001b[39;49m\u001b[39m1\u001b[39;49m\u001b[39m'\u001b[39;49m \u001b[39m+\u001b[39;49m \u001b[39m2\u001b[39;49m\n",
      "\u001b[0;31mTypeError\u001b[0m: can only concatenate str (not \"int\") to str"
     ]
    }
   ],
   "source": [
    "# '1' + 2  --- error\n",
    "'1' + 2"
   ]
  },
  {
   "cell_type": "code",
   "execution_count": 14,
   "id": "87c842c9",
   "metadata": {},
   "outputs": [
    {
     "data": {
      "text/plain": [
       "2"
      ]
     },
     "execution_count": 14,
     "metadata": {},
     "output_type": "execute_result"
    }
   ],
   "source": [
    "# 6 % 4 --- would be 2 because of the remainder\n",
    "6 % 4"
   ]
  },
  {
   "cell_type": "code",
   "execution_count": 15,
   "id": "403e314f",
   "metadata": {},
   "outputs": [
    {
     "data": {
      "text/plain": [
       "int"
      ]
     },
     "execution_count": 15,
     "metadata": {},
     "output_type": "execute_result"
    }
   ],
   "source": [
    "# type(6 % 4) --- int\n",
    "type(6 % 4)"
   ]
  },
  {
   "cell_type": "code",
   "execution_count": 16,
   "id": "2784ad6d",
   "metadata": {},
   "outputs": [
    {
     "data": {
      "text/plain": [
       "type"
      ]
     },
     "execution_count": 16,
     "metadata": {},
     "output_type": "execute_result"
    }
   ],
   "source": [
    "# type(type(6 % 4)) --- will give a type function\n",
    "type(type(6 % 4))"
   ]
  },
  {
   "cell_type": "code",
   "execution_count": 17,
   "id": "cd204cf9",
   "metadata": {},
   "outputs": [
    {
     "ename": "TypeError",
     "evalue": "can only concatenate str (not \"int\") to str",
     "output_type": "error",
     "traceback": [
      "\u001b[0;31m---------------------------------------------------------------------------\u001b[0m",
      "\u001b[0;31mTypeError\u001b[0m                                 Traceback (most recent call last)",
      "Cell \u001b[0;32mIn[17], line 2\u001b[0m\n\u001b[1;32m      1\u001b[0m \u001b[39m# '3 + 4 is ' + 3 + 4 --- will output \"3 + 4 is 7\"\u001b[39;00m\n\u001b[0;32m----> 2\u001b[0m \u001b[39m'\u001b[39;49m\u001b[39m3 + 4 is \u001b[39;49m\u001b[39m'\u001b[39;49m \u001b[39m+\u001b[39;49m \u001b[39m3\u001b[39;49m \u001b[39m+\u001b[39m \u001b[39m4\u001b[39m\n",
      "\u001b[0;31mTypeError\u001b[0m: can only concatenate str (not \"int\") to str"
     ]
    }
   ],
   "source": [
    "# '3 + 4 is ' + 3 + 4 --- will output an error\n",
    "'3 + 4 is ' + 3 + 4"
   ]
  },
  {
   "cell_type": "code",
   "execution_count": 18,
   "id": "5c8ff03d",
   "metadata": {},
   "outputs": [
    {
     "data": {
      "text/plain": [
       "False"
      ]
     },
     "execution_count": 18,
     "metadata": {},
     "output_type": "execute_result"
    }
   ],
   "source": [
    "# 0 < 0 --- output False\n",
    "0 < 0"
   ]
  },
  {
   "cell_type": "code",
   "execution_count": 19,
   "id": "59968c85",
   "metadata": {},
   "outputs": [
    {
     "data": {
      "text/plain": [
       "False"
      ]
     },
     "execution_count": 19,
     "metadata": {},
     "output_type": "execute_result"
    }
   ],
   "source": [
    "#'False' == False --- False because its a str to bool comparison\n",
    "'False' == False"
   ]
  },
  {
   "cell_type": "code",
   "execution_count": 20,
   "id": "2782a52f",
   "metadata": {},
   "outputs": [
    {
     "data": {
      "text/plain": [
       "False"
      ]
     },
     "execution_count": 20,
     "metadata": {},
     "output_type": "execute_result"
    }
   ],
   "source": [
    "# True == 'True' --- False b/c its a str to bool comparison\n",
    "True == 'True'\n"
   ]
  },
  {
   "cell_type": "code",
   "execution_count": 21,
   "id": "af99e87a",
   "metadata": {},
   "outputs": [
    {
     "data": {
      "text/plain": [
       "True"
      ]
     },
     "execution_count": 21,
     "metadata": {},
     "output_type": "execute_result"
    }
   ],
   "source": [
    "# 5 >= -5 --- True\n",
    "5 >= -5\n",
    "\n"
   ]
  },
  {
   "cell_type": "code",
   "execution_count": 22,
   "id": "76183dc0",
   "metadata": {},
   "outputs": [
    {
     "data": {
      "text/plain": [
       "True"
      ]
     },
     "execution_count": 22,
     "metadata": {},
     "output_type": "execute_result"
    }
   ],
   "source": [
    "# True or \"42\" --- will give True\n",
    "True or \"42\"\n"
   ]
  },
  {
   "cell_type": "code",
   "execution_count": 23,
   "id": "69c3fd72",
   "metadata": {},
   "outputs": [
    {
     "data": {
      "text/plain": [
       "1"
      ]
     },
     "execution_count": 23,
     "metadata": {},
     "output_type": "execute_result"
    }
   ],
   "source": [
    "# 6 % 5 --- will give 1\n",
    "6 % 5\n"
   ]
  },
  {
   "cell_type": "code",
   "execution_count": 24,
   "id": "6feb23bd",
   "metadata": {},
   "outputs": [
    {
     "data": {
      "text/plain": [
       "False"
      ]
     },
     "execution_count": 24,
     "metadata": {},
     "output_type": "execute_result"
    }
   ],
   "source": [
    "# 5 < 4 and 1 == 1 --- output will be false\n",
    "5 < 4 and 1 == 1\n"
   ]
  },
  {
   "cell_type": "code",
   "execution_count": 25,
   "id": "5f2c0b20",
   "metadata": {},
   "outputs": [
    {
     "data": {
      "text/plain": [
       "False"
      ]
     },
     "execution_count": 25,
     "metadata": {},
     "output_type": "execute_result"
    }
   ],
   "source": [
    "# 'codeup' == 'codeup' and 'codeup' == 'Codeup' --- output will be false b/c of 'C'\n",
    "'codeup' == 'codeup' and 'codeup' == 'Codeup'\n"
   ]
  },
  {
   "cell_type": "code",
   "execution_count": 26,
   "id": "3b44f6d1",
   "metadata": {},
   "outputs": [
    {
     "ename": "SyntaxError",
     "evalue": "invalid syntax (2958492720.py, line 2)",
     "output_type": "error",
     "traceback": [
      "\u001b[0;36m  Cell \u001b[0;32mIn[26], line 2\u001b[0;36m\u001b[0m\n\u001b[0;31m    4 >= 0 and 1 !== '1'\u001b[0m\n\u001b[0m                   ^\u001b[0m\n\u001b[0;31mSyntaxError\u001b[0m\u001b[0;31m:\u001b[0m invalid syntax\n"
     ]
    }
   ],
   "source": [
    "# 4 >= 0 and 1 !== '1' --- Output will be an error due to '1 !=='\n",
    "4 >= 0 and 1 !== '1'\n"
   ]
  },
  {
   "cell_type": "code",
   "execution_count": 27,
   "id": "80e3a254",
   "metadata": {},
   "outputs": [
    {
     "data": {
      "text/plain": [
       "True"
      ]
     },
     "execution_count": 27,
     "metadata": {},
     "output_type": "execute_result"
    }
   ],
   "source": [
    "# 6 % 3 == 0 --- will be True\n",
    "6 % 3 == 0\n"
   ]
  },
  {
   "cell_type": "code",
   "execution_count": 28,
   "id": "a091ea79",
   "metadata": {},
   "outputs": [
    {
     "data": {
      "text/plain": [
       "True"
      ]
     },
     "execution_count": 28,
     "metadata": {},
     "output_type": "execute_result"
    }
   ],
   "source": [
    "# 5 % 2 != 0 --- will be True\n",
    "5 % 2 != 0\n"
   ]
  },
  {
   "cell_type": "code",
   "execution_count": 29,
   "id": "03566e2d",
   "metadata": {},
   "outputs": [
    {
     "ename": "TypeError",
     "evalue": "can only concatenate list (not \"int\") to list",
     "output_type": "error",
     "traceback": [
      "\u001b[0;31m---------------------------------------------------------------------------\u001b[0m",
      "\u001b[0;31mTypeError\u001b[0m                                 Traceback (most recent call last)",
      "Cell \u001b[0;32mIn[29], line 2\u001b[0m\n\u001b[1;32m      1\u001b[0m \u001b[39m# [1] + 2 --- will return \u001b[39;00m\n\u001b[0;32m----> 2\u001b[0m [\u001b[39m1\u001b[39;49m] \u001b[39m+\u001b[39;49m \u001b[39m2\u001b[39;49m\n",
      "\u001b[0;31mTypeError\u001b[0m: can only concatenate list (not \"int\") to list"
     ]
    }
   ],
   "source": [
    "# [1] + 2 --- will return an error off of list\n",
    "[1] + 2\n"
   ]
  },
  {
   "cell_type": "code",
   "execution_count": 30,
   "id": "2ce69f7c",
   "metadata": {},
   "outputs": [
    {
     "data": {
      "text/plain": [
       "[1, 2]"
      ]
     },
     "execution_count": 30,
     "metadata": {},
     "output_type": "execute_result"
    }
   ],
   "source": [
    "# [1] + [2] --- will return [1, 2]\n",
    "[1] + [2]\n"
   ]
  },
  {
   "cell_type": "code",
   "execution_count": 31,
   "id": "5b3d2557",
   "metadata": {},
   "outputs": [
    {
     "data": {
      "text/plain": [
       "[1, 1]"
      ]
     },
     "execution_count": 31,
     "metadata": {},
     "output_type": "execute_result"
    }
   ],
   "source": [
    "# [1] * 2 --- will return [1, 1]\n",
    "[1] * 2\n"
   ]
  },
  {
   "cell_type": "code",
   "execution_count": 32,
   "id": "6e4a8a87",
   "metadata": {},
   "outputs": [
    {
     "ename": "TypeError",
     "evalue": "can't multiply sequence by non-int of type 'list'",
     "output_type": "error",
     "traceback": [
      "\u001b[0;31m---------------------------------------------------------------------------\u001b[0m",
      "\u001b[0;31mTypeError\u001b[0m                                 Traceback (most recent call last)",
      "Cell \u001b[0;32mIn[32], line 2\u001b[0m\n\u001b[1;32m      1\u001b[0m \u001b[39m#[1] * [2] ---\u001b[39;00m\n\u001b[0;32m----> 2\u001b[0m [\u001b[39m1\u001b[39;49m] \u001b[39m*\u001b[39;49m [\u001b[39m2\u001b[39;49m]\n",
      "\u001b[0;31mTypeError\u001b[0m: can't multiply sequence by non-int of type 'list'"
     ]
    }
   ],
   "source": [
    "#[1] * [2] --- return an error for the list\n",
    "[1] * [2]\n"
   ]
  },
  {
   "cell_type": "code",
   "execution_count": 33,
   "id": "3f230103",
   "metadata": {},
   "outputs": [
    {
     "data": {
      "text/plain": [
       "True"
      ]
     },
     "execution_count": 33,
     "metadata": {},
     "output_type": "execute_result"
    }
   ],
   "source": [
    "# [] + [] == [] --- will return True b/c its empty\n",
    "[] + [] == []\n"
   ]
  },
  {
   "cell_type": "code",
   "execution_count": 34,
   "id": "9b42b36b",
   "metadata": {},
   "outputs": [
    {
     "ename": "TypeError",
     "evalue": "unsupported operand type(s) for +: 'dict' and 'dict'",
     "output_type": "error",
     "traceback": [
      "\u001b[0;31m---------------------------------------------------------------------------\u001b[0m",
      "\u001b[0;31mTypeError\u001b[0m                                 Traceback (most recent call last)",
      "Cell \u001b[0;32mIn[34], line 2\u001b[0m\n\u001b[1;32m      1\u001b[0m \u001b[39m# {} + {} --- will return nothing in dict\u001b[39;00m\n\u001b[0;32m----> 2\u001b[0m {} \u001b[39m+\u001b[39;49m {}\n",
      "\u001b[0;31mTypeError\u001b[0m: unsupported operand type(s) for +: 'dict' and 'dict'"
     ]
    }
   ],
   "source": [
    "# {} + {} --- will return error in dict\n",
    "{} + {}\n"
   ]
  },
  {
   "cell_type": "markdown",
   "id": "1f6bbcd9",
   "metadata": {},
   "source": [
    "4. Describe the following scenarios. You will need to create and assign variables and use operators."
   ]
  },
  {
   "cell_type": "code",
   "execution_count": 36,
   "id": "76512bb4",
   "metadata": {},
   "outputs": [],
   "source": [
    "little_mer = 3\n",
    "bro_bear = 5\n",
    "herc = 1\n",
    "d_fee = 3"
   ]
  },
  {
   "cell_type": "markdown",
   "id": "2e85dbd3",
   "metadata": {},
   "source": [
    "5. You have rented some movies for your kids:\n",
    "\n",
    "        The Little Mermaid for 3 days\n",
    "        Brother Bear for 5 days\n",
    "        Hercules for 1 day\n",
    "\n",
    "If the daily fee to rent a movie is 3 dollars, how much will you have to pay?"
   ]
  },
  {
   "cell_type": "code",
   "execution_count": 37,
   "id": "d1969fb2",
   "metadata": {},
   "outputs": [
    {
     "data": {
      "text/plain": [
       "27"
      ]
     },
     "execution_count": 37,
     "metadata": {},
     "output_type": "execute_result"
    }
   ],
   "source": [
    "(little_mer * d_fee) + (bro_bear * d_fee) + (herc * d_fee)"
   ]
  },
  {
   "cell_type": "markdown",
   "id": "2102c0ce",
   "metadata": {},
   "source": [
    "6. Suppose you're working as a contractor for 3 companies: Google, Amazon and Facebook.\n",
    "\n",
    "They pay you the following hourly rates:\n",
    "\n",
    "        Google: 400 dollars\n",
    "        Amazon: 380 dollars\n",
    "        Facebook: 350 dollars\n",
    "        This week you worked: 10 hours for Facebook, 6 hours for Google and 4 hours for Amazon.\n",
    "\n",
    "How much will you receive in payment for this week?"
   ]
  },
  {
   "cell_type": "code",
   "execution_count": 38,
   "id": "f1838ec9",
   "metadata": {},
   "outputs": [
    {
     "data": {
      "text/plain": [
       "7420"
      ]
     },
     "execution_count": 38,
     "metadata": {},
     "output_type": "execute_result"
    }
   ],
   "source": [
    "goog = 400\n",
    "amaz = 380\n",
    "face = 350\n",
    "\n",
    "10 * face + 6 * goog + 4 * amaz"
   ]
  },
  {
   "cell_type": "markdown",
   "id": "06b6f19c",
   "metadata": {},
   "source": [
    "7. A student can be enrolled to a class only if the class is not full and the class schedule does not conflict with her current schedule.\n"
   ]
  },
  {
   "cell_type": "code",
   "execution_count": 39,
   "id": "c5a46966",
   "metadata": {},
   "outputs": [],
   "source": [
    "class_sched_open = True\n",
    "class_full = True\n",
    "enroll_student = class_sched_open == True and class_full == False"
   ]
  },
  {
   "cell_type": "markdown",
   "id": "053f4639",
   "metadata": {},
   "source": [
    "8. A product offer can be applied only if people buys more than 2 items, and the offer has not expired. Premium members do not need to buy a specific amount of products.\n"
   ]
  },
  {
   "cell_type": "code",
   "execution_count": null,
   "id": "cf65419d",
   "metadata": {},
   "outputs": [],
   "source": [
    "product = 1\n",
    "prem_mem = True\n",
    "exp_offer = False\n",
    "product_offer = (prem_mem == True and exp_offer == False) or (product >= 2 and exp_offer == False)"
   ]
  },
  {
   "cell_type": "markdown",
   "id": "1c62243d",
   "metadata": {},
   "source": [
    "9. Continue working in the data_types_and_variables.py file. Use the following code to follow the instructions below:"
   ]
  },
  {
   "cell_type": "markdown",
   "id": "28fc4ba2",
   "metadata": {},
   "source": [
    "Create a variable that holds a boolean value for each of the following conditions:\n",
    "\n",
    "    The password must be at least 5 characters\n",
    "        password >= 5\n",
    "    The username must be no more than 20 characters\n",
    "        username <= 20\n",
    "    The password must not be the same as the username\n",
    "        password != username\n",
    "    Bonus Neither the username or password can start or end with whitespace"
   ]
  },
  {
   "cell_type": "code",
   "execution_count": 41,
   "id": "c7ce3ef3",
   "metadata": {},
   "outputs": [
    {
     "name": "stdout",
     "output_type": "stream",
     "text": [
      "True\n",
      "True\n"
     ]
    }
   ],
   "source": [
    "username = 'codeup'\n",
    "password = 'notastrongpassword'\n",
    "\n",
    "username_check = len(username) <= 20 and (username != password)\n",
    "pw_check = len(password) >= 5 and (username != password)\n",
    "\n",
    "print(pw_check)\n",
    "print(username_check)\n"
   ]
  },
  {
   "cell_type": "code",
   "execution_count": null,
   "id": "e82582f1",
   "metadata": {},
   "outputs": [],
   "source": []
  }
 ],
 "metadata": {
  "kernelspec": {
   "display_name": "Python 3 (ipykernel)",
   "language": "python",
   "name": "python3"
  },
  "language_info": {
   "codemirror_mode": {
    "name": "ipython",
    "version": 3
   },
   "file_extension": ".py",
   "mimetype": "text/x-python",
   "name": "python",
   "nbconvert_exporter": "python",
   "pygments_lexer": "ipython3",
   "version": "3.9.6"
  }
 },
 "nbformat": 4,
 "nbformat_minor": 5
}
