{
 "cells": [
  {
   "cell_type": "code",
   "execution_count": null,
   "metadata": {},
   "outputs": [],
   "source": []
  },
  {
   "cell_type": "markdown",
   "metadata": {},
   "source": [
    "1. Define a function named is_two. It should accept one input and return True if the passed input is either the number or the string 2, False otherwise."
   ]
  },
  {
   "cell_type": "code",
   "execution_count": 5,
   "metadata": {},
   "outputs": [],
   "source": [
    "# function asks if its a 2 or not\n",
    "def is_two(something):\n",
    "    # check to see if something is equal to two or not\n",
    "    if something == 2 or '2':\n",
    "        # if it is then it returns true\n",
    "        return True\n",
    "    # if not it returns false\n",
    "    else:\n",
    "        return False"
   ]
  },
  {
   "cell_type": "markdown",
   "metadata": {},
   "source": [
    "2. Define a function named is_vowel. It should return True if the passed string is a vowel, False otherwise."
   ]
  },
  {
   "cell_type": "code",
   "execution_count": 42,
   "metadata": {},
   "outputs": [],
   "source": [
    "# f(x) to check for vowels\n",
    "def is_vowel(letter):\n",
    "        # need to lowercase the input\n",
    "        letter = letter.lower()\n",
    "        # made a list of vowels\n",
    "        vowels = ['a','e','i','o','u']\n",
    "        # if statement to check against the list\n",
    "        if letter in vowels:\n",
    "            return True\n",
    "        # if not on list then return is False\n",
    "        else:\n",
    "              return False"
   ]
  },
  {
   "cell_type": "code",
   "execution_count": 43,
   "metadata": {},
   "outputs": [
    {
     "data": {
      "text/plain": [
       "True"
      ]
     },
     "execution_count": 43,
     "metadata": {},
     "output_type": "execute_result"
    }
   ],
   "source": [
    "is_vowel('a')"
   ]
  },
  {
   "cell_type": "markdown",
   "metadata": {},
   "source": [
    "3. Define a function named is_consonant. It should return True if the passed string is a consonant, False otherwise. Use your is_vowel function to accomplish this"
   ]
  },
  {
   "cell_type": "code",
   "execution_count": 1,
   "metadata": {},
   "outputs": [],
   "source": [
    "# func for checking if letter is a consonant\n",
    "def is_consonant(letter):\n",
    "    # lowercasing it\n",
    "    letter = letter.lower()\n",
    "    # checking against the previous vowel list that was created\n",
    "    if is_vowel(letter) == True:\n",
    "        #if its on the vowel list then it returns false for the consonant\n",
    "        return False\n",
    "        # returns true if not on the vowel list\n",
    "    else:\n",
    "        return True"
   ]
  },
  {
   "cell_type": "code",
   "execution_count": 33,
   "metadata": {},
   "outputs": [
    {
     "data": {
      "text/plain": [
       "True"
      ]
     },
     "execution_count": 33,
     "metadata": {},
     "output_type": "execute_result"
    }
   ],
   "source": [
    "is_consonant('R')"
   ]
  },
  {
   "cell_type": "markdown",
   "metadata": {},
   "source": [
    "4. Define a function that accepts a string that is a word. The function should capitalize the first letter of the word if the word starts with a consonant.\n"
   ]
  },
  {
   "cell_type": "code",
   "execution_count": 40,
   "metadata": {},
   "outputs": [],
   "source": [
    "#need func that accept a string and caps the first letter if its a consonant\n",
    "def is_string_word(word):\n",
    "    # checks if its a string and needs to check 1st letter\n",
    "    if word == str() and :\n",
    "        return True\n",
    "    print(word.capitalize())\n",
    "    \n",
    "\n",
    "\n",
    "\n",
    "# not finished.\n",
    "    "
   ]
  },
  {
   "cell_type": "code",
   "execution_count": 42,
   "metadata": {},
   "outputs": [
    {
     "name": "stdout",
     "output_type": "stream",
     "text": [
      "Hello\n"
     ]
    }
   ],
   "source": [
    "is_string_word('hello')"
   ]
  },
  {
   "cell_type": "markdown",
   "metadata": {},
   "source": [
    "5. Define a function named calculate_tip. It should accept a tip percentage (a number between 0 and 1) and the bill total, and return the amount to tip."
   ]
  },
  {
   "cell_type": "code",
   "execution_count": 29,
   "metadata": {},
   "outputs": [],
   "source": [
    "# func for calculating a tip\n",
    "def calculate_tip(amount, tip_pct):\n",
    "    # need a float for the decimals and define the input\n",
    "    amount = float(amount)\n",
    "    tip_pct = float(tip_pct)\n",
    "    # tip calculation\n",
    "    tip_amt = tip_pct * amount\n",
    "    total = tip_amt + amount\n",
    "    # states the total bill with tip and the tip amount separately\n",
    "    return (f'{total} is total with tip and {tip_amt} is the tip by itself')\n",
    "\n",
    "\n",
    "\n",
    "\n",
    "\n",
    "\n",
    "\n"
   ]
  },
  {
   "cell_type": "code",
   "execution_count": 30,
   "metadata": {},
   "outputs": [
    {
     "data": {
      "text/plain": [
       "'51.75 is total with tip and 6.75 is the tip by itself'"
      ]
     },
     "execution_count": 30,
     "metadata": {},
     "output_type": "execute_result"
    }
   ],
   "source": [
    "calculate_tip(45, 0.15)"
   ]
  },
  {
   "cell_type": "markdown",
   "metadata": {},
   "source": [
    "6. Define a function named apply_discount. It should accept a original price, and a discount percentage, and return the price after the discount is applied."
   ]
  },
  {
   "cell_type": "code",
   "execution_count": 89,
   "metadata": {},
   "outputs": [],
   "source": [
    "# function for a discount\n",
    "def apply_discount(org_price, dis_pct):\n",
    "    #setting up the inputs as floats\n",
    "    org_price = float(org_price,)\n",
    "    dis_pct = float(dis_pct,)\n",
    "    # calc for discount\n",
    "    dis_price = org_price * dis_pct\n",
    "    apply_disc = org_price - dis_price\n",
    "\n",
    "# returns the total after discount and states the percentage of discount\n",
    "    return (f'Your total is {apply_disc} after your discount of {dis_pct * 100}%')"
   ]
  },
  {
   "cell_type": "code",
   "execution_count": 90,
   "metadata": {},
   "outputs": [
    {
     "data": {
      "text/plain": [
       "'Your total is 17.995 after your discount of 50.0%'"
      ]
     },
     "execution_count": 90,
     "metadata": {},
     "output_type": "execute_result"
    }
   ],
   "source": [
    "apply_discount(35.99, .5)"
   ]
  },
  {
   "cell_type": "markdown",
   "metadata": {},
   "source": [
    "7. Define a function named handle_commas. It should accept a string that is a number that contains commas in it as input, and return a number as output."
   ]
  },
  {
   "cell_type": "code",
   "execution_count": 87,
   "metadata": {},
   "outputs": [],
   "source": [
    "def handle_commas(string):\n",
    "    \n",
    "\n",
    "    "
   ]
  },
  {
   "cell_type": "markdown",
   "metadata": {},
   "source": [
    "8. Define a function named get_letter_grade. It should accept a number and return the letter grade associated with that number (A-F)."
   ]
  },
  {
   "cell_type": "code",
   "execution_count": 88,
   "metadata": {},
   "outputs": [
    {
     "ename": "TypeError",
     "evalue": "replace expected at least 2 arguments, got 1",
     "output_type": "error",
     "traceback": [
      "\u001b[0;31m---------------------------------------------------------------------------\u001b[0m",
      "\u001b[0;31mTypeError\u001b[0m                                 Traceback (most recent call last)",
      "Cell \u001b[0;32mIn[88], line 1\u001b[0m\n\u001b[0;32m----> 1\u001b[0m handle_commas([\u001b[39m1\u001b[39;49m,\u001b[39m3\u001b[39;49m,\u001b[39m4\u001b[39;49m,\u001b[39m5\u001b[39;49m])\n",
      "Cell \u001b[0;32mIn[87], line 3\u001b[0m, in \u001b[0;36mhandle_commas\u001b[0;34m(string)\u001b[0m\n\u001b[1;32m      1\u001b[0m \u001b[39mdef\u001b[39;00m \u001b[39mhandle_commas\u001b[39m(string):\n\u001b[1;32m      2\u001b[0m     string \u001b[39m=\u001b[39m []\n\u001b[0;32m----> 3\u001b[0m     string \u001b[39m=\u001b[39m \u001b[39mstr\u001b[39;49m\u001b[39m.\u001b[39;49mreplace(\u001b[39m\"\u001b[39;49m\u001b[39m,\u001b[39;49m\u001b[39m\"\u001b[39;49m, \u001b[39m\"\u001b[39;49m\u001b[39m \u001b[39;49m\u001b[39m\"\u001b[39;49m)\n\u001b[1;32m      4\u001b[0m     string \u001b[39m=\u001b[39m \u001b[39mint\u001b[39m(string)\n\u001b[1;32m      6\u001b[0m     \u001b[39mreturn\u001b[39;00m string\n",
      "\u001b[0;31mTypeError\u001b[0m: replace expected at least 2 arguments, got 1"
     ]
    }
   ],
   "source": [
    "handle_commas([1,3,4,5])"
   ]
  },
  {
   "cell_type": "code",
   "execution_count": 39,
   "metadata": {},
   "outputs": [],
   "source": [
    "# function for translating grade number to letter grade\n",
    "def get_letter_grade(num_grade):\n",
    "    # making sure its an integer\n",
    "    num_grade = int(num_grade)\n",
    "    # if statements for the split between letter grades\n",
    "    if num_grade > 89:\n",
    "        return 'A'\n",
    "    if num_grade >= 80:\n",
    "        return 'B'\n",
    "    if num_grade >= 70:\n",
    "        return ('C')\n",
    "    if num_grade >= 60:\n",
    "        return ('D')\n",
    "    else:\n",
    "        return ('F')\n",
    "    \n"
   ]
  },
  {
   "cell_type": "code",
   "execution_count": 41,
   "metadata": {},
   "outputs": [
    {
     "data": {
      "text/plain": [
       "'B'"
      ]
     },
     "execution_count": 41,
     "metadata": {},
     "output_type": "execute_result"
    }
   ],
   "source": [
    "get_letter_grade(80)"
   ]
  },
  {
   "cell_type": "markdown",
   "metadata": {},
   "source": [
    "9. Define a function named remove_vowels that accepts a string and returns a string with all the vowels removed."
   ]
  },
  {
   "cell_type": "code",
   "execution_count": 91,
   "metadata": {},
   "outputs": [],
   "source": [
    "\n",
    "# function for removing vowels from a string\n",
    "def remove_vowels(string):\n",
    "    # lower casing the string\n",
    "    string = str.lower(string)\n",
    "    # list of vowels\n",
    "    vowel = ['a','e','i','o','u']\n",
    "    # checking each letter in the string for letters not in the vowel list\n",
    "    result = [letter for letter in string if letter not in vowel ]\n",
    "    # removing and joining the letters that arent on the vowel list together\n",
    "    result = ''.join(result)\n",
    "\n",
    "    return result\n",
    "\n",
    "\n"
   ]
  },
  {
   "cell_type": "code",
   "execution_count": 55,
   "metadata": {},
   "outputs": [
    {
     "data": {
      "text/plain": [
       "'nvr'"
      ]
     },
     "execution_count": 55,
     "metadata": {},
     "output_type": "execute_result"
    }
   ],
   "source": [
    "remove_vowels(\"never\")"
   ]
  },
  {
   "cell_type": "markdown",
   "metadata": {},
   "source": [
    "10. Define a function named normalize_name. It should accept a string and return a valid python identifier, that is:\n",
    "        - anything that is not a valid python identifier should be removed\n",
    "        - leading and trailing whitespace should be removed\n",
    "        - everything should be lowercase\n",
    "        - spaces should be replaced with underscores\n",
    "        - for example:\n",
    "            - Name will become name\n",
    "            - First Name will become first_name\n",
    "            - % Completed will become completed"
   ]
  },
  {
   "cell_type": "code",
   "execution_count": 73,
   "metadata": {},
   "outputs": [],
   "source": [
    "\n",
    "\n",
    "def normalize_name(string):\n",
    "\n",
    "    string = str.lower(string)\n",
    "    string = string.strip()\n",
    "    string = string.replace(\" \",\"_\")\n",
    "   \n",
    "\n",
    "    return string\n",
    "\n",
    "    \n",
    "    "
   ]
  },
  {
   "cell_type": "code",
   "execution_count": 74,
   "metadata": {},
   "outputs": [
    {
     "data": {
      "text/plain": [
       "'josh_click'"
      ]
     },
     "execution_count": 74,
     "metadata": {},
     "output_type": "execute_result"
    }
   ],
   "source": [
    "normalize_name(\"        josh click\")"
   ]
  },
  {
   "cell_type": "markdown",
   "metadata": {},
   "source": [
    "11. Write a function named cumulative_sum that accepts a list of numbers and returns a list that is the cumulative sum of the numbers in the list.\n",
    "        - cumulative_sum([1, 1, 1]) returns [1, 2, 3]\n",
    "        - cumulative_sum([1, 2, 3, 4]) returns [1, 3, 6, 10]"
   ]
  },
  {
   "cell_type": "code",
   "execution_count": 78,
   "metadata": {},
   "outputs": [],
   "source": [
    "def cumulative_sum(list):\n",
    "    cum_list = []\n",
    "    length_list = len(list)\n",
    "    cum_list = [sum(list[0:x:1]) for x in range(0, length_list+1)]\n",
    "    return cum_list[1:]\n",
    "\n"
   ]
  },
  {
   "cell_type": "code",
   "execution_count": 79,
   "metadata": {},
   "outputs": [
    {
     "data": {
      "text/plain": [
       "[1, 6, 13, 21, 30, 52]"
      ]
     },
     "execution_count": 79,
     "metadata": {},
     "output_type": "execute_result"
    }
   ],
   "source": [
    "cumulative_sum([1,5,7,8,9,22])"
   ]
  },
  {
   "cell_type": "markdown",
   "metadata": {},
   "source": [
    "Additional Exercise\n",
    "\n",
    "- Once you've completed the above exercises, follow the directions from https://gist.github.com/zgulde/ec8ed80ad8216905cda83d5645c60886 in order to thouroughly comment your code to explain your code."
   ]
  },
  {
   "cell_type": "markdown",
   "metadata": {},
   "source": []
  },
  {
   "cell_type": "markdown",
   "metadata": {},
   "source": []
  }
 ],
 "metadata": {
  "kernelspec": {
   "display_name": "Python 3",
   "language": "python",
   "name": "python3"
  },
  "language_info": {
   "codemirror_mode": {
    "name": "ipython",
    "version": 3
   },
   "file_extension": ".py",
   "mimetype": "text/x-python",
   "name": "python",
   "nbconvert_exporter": "python",
   "pygments_lexer": "ipython3",
   "version": "3.9.6"
  },
  "orig_nbformat": 4
 },
 "nbformat": 4,
 "nbformat_minor": 2
}
