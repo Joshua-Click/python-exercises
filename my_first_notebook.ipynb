{
 "cells": [
  {
   "cell_type": "code",
   "execution_count": null,
   "id": "ebc54c7c",
   "metadata": {},
   "outputs": [],
   "source": [
    "#to cut cells, press x"
   ]
  },
  {
   "cell_type": "code",
   "execution_count": null,
   "id": "0097933d",
   "metadata": {},
   "outputs": [],
   "source": [
    "#to paste cells, press v"
   ]
  },
  {
   "cell_type": "code",
   "execution_count": null,
   "id": "ac9ddcae",
   "metadata": {},
   "outputs": [],
   "source": [
    "#to copy cells, press x: this is pasted from above"
   ]
  },
  {
   "cell_type": "code",
   "execution_count": null,
   "id": "bddef2be",
   "metadata": {},
   "outputs": [],
   "source": [
    "#to insert cell below, press b"
   ]
  },
  {
   "cell_type": "code",
   "execution_count": null,
   "id": "a5a9031b",
   "metadata": {},
   "outputs": [],
   "source": []
  }
 ],
 "metadata": {
  "kernelspec": {
   "display_name": "Python 3 (ipykernel)",
   "language": "python",
   "name": "python3"
  },
  "language_info": {
   "codemirror_mode": {
    "name": "ipython",
    "version": 3
   },
   "file_extension": ".py",
   "mimetype": "text/x-python",
   "name": "python",
   "nbconvert_exporter": "python",
   "pygments_lexer": "ipython3",
   "version": "3.11.3"
  }
 },
 "nbformat": 4,
 "nbformat_minor": 5
}
